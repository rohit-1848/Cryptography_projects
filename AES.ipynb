{
 "cells": [
  {
   "cell_type": "markdown",
   "id": "f6f4fb82",
   "metadata": {
    "id": "f6f4fb82"
   },
   "source": [
    "# AES-128 Encryption and Decryption Implementation\n",
    "\n",
    "This project is a full implementation of the **AES-128 encryption algorithm**, built from scratch in Python to understand and demonstrate how each component of the AES cipher works. \n",
    "\n",
    "We have implemented the complete encryption-decryption pipeline including:\n",
    "\n",
    "---\n",
    "\n",
    "## Project Objectives\n",
    "- Understand the **inner workings of AES-128**, including substitution, permutation, and key mixing stages.\n",
    "- Implement all core AES operations **without using external crypto libraries**.\n",
    "- Apply **AES-128 in CBC mode** for practical, secure message encryption and decryption.\n",
    "- Explore vulnerabilities and best practices, such as **correct padding** and **key handling**.\n",
    "- Investigate **stream ciphers and padding-related pitfalls**, and contrast them with block ciphers like AES.\n",
    "\n",
    "---\n",
    "\n",
    "## Key Features Implemented\n",
    "\n",
    "- `SubBytes` and `SubBytes_inv`: Byte-wise substitution using the AES S-box.\n",
    "- `ShiftRows` and `ShiftRows_inv`: Row-wise byte permutation.\n",
    "- `MixColumns` and `MixColumns_inv`: Column-wise mixing for diffusion.\n",
    "- `AddRoundKey`: Key mixing through XOR.\n",
    "- **Key Expansion**: Generation of round keys from the 128-bit master key using the RCON table and S-box.\n",
    "- **AES128_encrypt / AES128_decrypt**: AES encryption and decryption for a single 16-byte block.\n",
    "- **AES128_CBC_encrypt / AES128_CBC_decrypt**:\n",
    "  - Full CBC (Cipher Block Chaining) mode support.\n",
    "  - Handles arbitrary-length plaintexts with proper padding and unpadding (e.g., PKCS#7).\n",
    "- Explored **One-Time Pad vulnerabilities** when the key is shorter than the message.\n",
    "- Used **known-plaintext attacks** to demonstrate XOR stream cipher weaknesses under key reuse.\n",
    "\n",
    "---\n",
    "\n",
    "## Learning Outcomes\n",
    "\n",
    "Through this implementation, we gained hands-on experience with:\n",
    "- The structure and operations inside a modern block cipher.\n",
    "- Secure key usage and the importance of **non-reuse and correct padding**.\n",
    "- CBC mode operation and its real-world application scenarios.\n",
    "- Vulnerability analysis via known-plaintext and key reuse attacks.\n",
    "\n",
    "---\n",
    "\n",
    "## Future Scope\n",
    "\n",
    "- Add **AES-192** and **AES-256** support.\n",
    "- Implement **AES-GCM or AES-CTR** for authenticated encryption.\n",
    "- Build a simple CLI or web interface for secure file/message encryption.\n",
    "\n",
    "---\n",
    "\n",
    "> This implementation is intended for educational purposes and to build a strong foundation in cryptographic principles — not for production use without proper review and security auditing.\n"
   ]
  },
  {
   "cell_type": "markdown",
   "id": "89981808",
   "metadata": {},
   "source": [
    "---------------------------------------------------------"
   ]
  },
  {
   "cell_type": "markdown",
   "id": "c6969239",
   "metadata": {
    "id": "c6969239"
   },
   "source": [
    "---------------------------------------------------------"
   ]
  },
  {
   "cell_type": "markdown",
   "id": "b618b297",
   "metadata": {
    "id": "b618b297"
   },
   "source": [
    "## Section 0: Preparison\n",
    "We are going to develop AES-128.\n",
    "Followings are some default parameters used by AES."
   ]
  },
  {
   "cell_type": "code",
   "execution_count": 87,
   "id": "d0d5aa77",
   "metadata": {
    "id": "d0d5aa77"
   },
   "outputs": [],
   "source": [
    "SBOX = [\n",
    "    [0x63, 0x7C, 0x77, 0x7B, 0xF2, 0x6B, 0x6F, 0xC5, 0x30, 0x01, 0x67, 0x2B, 0xFE, 0xD7, 0xAB, 0x76],\n",
    "    [0xCA, 0x82, 0xC9, 0x7D, 0xFA, 0x59, 0x47, 0xF0, 0xAD, 0xD4, 0xA2, 0xAF, 0x9C, 0xA4, 0x72, 0xC0],\n",
    "    [0xB7, 0xFD, 0x93, 0x26, 0x36, 0x3F, 0xF7, 0xCC, 0x34, 0xA5, 0xE5, 0xF1, 0x71, 0xD8, 0x31, 0x15],\n",
    "    [0x04, 0xC7, 0x23, 0xC3, 0x18, 0x96, 0x05, 0x9A, 0x07, 0x12, 0x80, 0xE2, 0xEB, 0x27, 0xB2, 0x75],\n",
    "    [0x09, 0x83, 0x2C, 0x1A, 0x1B, 0x6E, 0x5A, 0xA0, 0x52, 0x3B, 0xD6, 0xB3, 0x29, 0xE3, 0x2F, 0x84],\n",
    "    [0x53, 0xD1, 0x00, 0xED, 0x20, 0xFC, 0xB1, 0x5B, 0x6A, 0xCB, 0xBE, 0x39, 0x4A, 0x4C, 0x58, 0xCF],\n",
    "    [0xD0, 0xEF, 0xAA, 0xFB, 0x43, 0x4D, 0x33, 0x85, 0x45, 0xF9, 0x02, 0x7F, 0x50, 0x3C, 0x9F, 0xA8],\n",
    "    [0x51, 0xA3, 0x40, 0x8F, 0x92, 0x9D, 0x38, 0xF5, 0xBC, 0xB6, 0xDA, 0x21, 0x10, 0xFF, 0xF3, 0xD2],\n",
    "    [0xCD, 0x0C, 0x13, 0xEC, 0x5F, 0x97, 0x44, 0x17, 0xC4, 0xA7, 0x7E, 0x3D, 0x64, 0x5D, 0x19, 0x73],\n",
    "    [0x60, 0x81, 0x4F, 0xDC, 0x22, 0x2A, 0x90, 0x88, 0x46, 0xEE, 0xB8, 0x14, 0xDE, 0x5E, 0x0B, 0xDB],\n",
    "    [0xE0, 0x32, 0x3A, 0x0A, 0x49, 0x06, 0x24, 0x5C, 0xC2, 0xD3, 0xAC, 0x62, 0x91, 0x95, 0xE4, 0x79],\n",
    "    [0xE7, 0xC8, 0x37, 0x6D, 0x8D, 0xD5, 0x4E, 0xA9, 0x6C, 0x56, 0xF4, 0xEA, 0x65, 0x7A, 0xAE, 0x08],\n",
    "    [0xBA, 0x78, 0x25, 0x2E, 0x1C, 0xA6, 0xB4, 0xC6, 0xE8, 0xDD, 0x74, 0x1F, 0x4B, 0xBD, 0x8B, 0x8A],\n",
    "    [0x70, 0x3E, 0xB5, 0x66, 0x48, 0x03, 0xF6, 0x0E, 0x61, 0x35, 0x57, 0xB9, 0x86, 0xC1, 0x1D, 0x9E],\n",
    "    [0xE1, 0xF8, 0x98, 0x11, 0x69, 0xD9, 0x8E, 0x94, 0x9B, 0x1E, 0x87, 0xE9, 0xCE, 0x55, 0x28, 0xDF],\n",
    "    [0x8C, 0xA1, 0x89, 0x0D, 0xBF, 0xE6, 0x42, 0x68, 0x41, 0x99, 0x2D, 0x0F, 0xB0, 0x54, 0xBB, 0x16]\n",
    "]\n",
    "\n",
    "INV_SBOX = [\n",
    "    [0x52, 0x09, 0x6A, 0xD5, 0x30, 0x36, 0xA5, 0x38, 0xBF, 0x40, 0xA3, 0x9E, 0x81, 0xF3, 0xD7, 0xFB],\n",
    "    [0x7C, 0xE3, 0x39, 0x82, 0x9B, 0x2F, 0xFF, 0x87, 0x34, 0x8E, 0x43, 0x44, 0xC4, 0xDE, 0xE9, 0xCB],\n",
    "    [0x54, 0x7B, 0x94, 0x32, 0xA6, 0xC2, 0x23, 0x3D, 0xEE, 0x4C, 0x95, 0x0B, 0x42, 0xFA, 0xC3, 0x4E],\n",
    "    [0x08, 0x2E, 0xA1, 0x66, 0x28, 0xD9, 0x24, 0xB2, 0x76, 0x5B, 0xA2, 0x49, 0x6D, 0x8B, 0xD1, 0x25],\n",
    "    [0x72, 0xF8, 0xF6, 0x64, 0x86, 0x68, 0x98, 0x16, 0xD4, 0xA4, 0x5C, 0xCC, 0x5D, 0x65, 0xB6, 0x92],\n",
    "    [0x6C, 0x70, 0x48, 0x50, 0xFD, 0xED, 0xB9, 0xDA, 0x5E, 0x15, 0x46, 0x57, 0xA7, 0x8D, 0x9D, 0x84],\n",
    "    [0x90, 0xD8, 0xAB, 0x00, 0x8C, 0xBC, 0xD3, 0x0A, 0xF7, 0xE4, 0x58, 0x05, 0xB8, 0xB3, 0x45, 0x06],\n",
    "    [0xD0, 0x2C, 0x1E, 0x8F, 0xCA, 0x3F, 0x0F, 0x02, 0xC1, 0xAF, 0xBD, 0x03, 0x01, 0x13, 0x8A, 0x6B],\n",
    "    [0x3A, 0x91, 0x11, 0x41, 0x4F, 0x67, 0xDC, 0xEA, 0x97, 0xF2, 0xCF, 0xCE, 0xF0, 0xB4, 0xE6, 0x73],\n",
    "    [0x96, 0xAC, 0x74, 0x22, 0xE7, 0xAD, 0x35, 0x85, 0xE2, 0xF9, 0x37, 0xE8, 0x1C, 0x75, 0xDF, 0x6E],\n",
    "    [0x47, 0xF1, 0x1A, 0x71, 0x1D, 0x29, 0xC5, 0x89, 0x6F, 0xB7, 0x62, 0x0E, 0xAA, 0x18, 0xBE, 0x1B],\n",
    "    [0xFC, 0x56, 0x3E, 0x4B, 0xC6, 0xD2, 0x79, 0x20, 0x9A, 0xDB, 0xC0, 0xFE, 0x78, 0xCD, 0x5A, 0xF4],\n",
    "    [0x1F, 0xDD, 0xA8, 0x33, 0x88, 0x07, 0xC7, 0x31, 0xB1, 0x12, 0x10, 0x59, 0x27, 0x80, 0xEC, 0x5F],\n",
    "    [0x60, 0x51, 0x7F, 0xA9, 0x19, 0xB5, 0x4A, 0x0D, 0x2D, 0xE5, 0x7A, 0x9F, 0x93, 0xC9, 0x9C, 0xEF],\n",
    "    [0xA0, 0xE0, 0x3B, 0x4D, 0xAE, 0x2A, 0xF5, 0xB0, 0xC8, 0xEB, 0xBB, 0x3C, 0x83, 0x53, 0x99, 0x61],\n",
    "    [0x17, 0x2B, 0x04, 0x7E, 0xBA, 0x77, 0xD6, 0x26, 0xE1, 0x69, 0x14, 0x63, 0x55, 0x21, 0x0C, 0x7D],\n",
    "]\n",
    "\n",
    "RCON = [\n",
    "    0x00, 0x01, 0x02, 0x04, 0x08, 0x10, 0x20, 0x40, 0x80, 0x1B, 0x36\n",
    "]"
   ]
  },
  {
   "cell_type": "markdown",
   "id": "2f96c308",
   "metadata": {
    "id": "2f96c308"
   },
   "source": [
    "#### Data Representations\n",
    "\n",
    "Recall that all data stored in the computer are formatted as bytes. In this assignment, we are going to represent an n-bytes data as a 1-D hexidecimals array. For example, a 5-byte data can be represented as:"
   ]
  },
  {
   "cell_type": "code",
   "execution_count": 88,
   "id": "6777c88c",
   "metadata": {
    "id": "6777c88c"
   },
   "outputs": [],
   "source": [
    "data = [0xff, 0x01, 0x4b, 0x22, 0x00]"
   ]
  },
  {
   "cell_type": "markdown",
   "id": "e0bb98f2",
   "metadata": {
    "id": "e0bb98f2"
   },
   "source": [
    "0x informs the computer that it is a hexadecimal representation, and the following characters (i.e. 4b) represents the value in hexadecimal format. Note that the value for each byte is 0~255, corresponding to 0x00~0xff."
   ]
  },
  {
   "cell_type": "markdown",
   "id": "d79dd133",
   "metadata": {
    "id": "d79dd133"
   },
   "source": [
    "Before we start our implementation, we need some help functions for basic operations.\n",
    "\n",
    "\n",
    "AES operates on a 4x4 2-D <b>column-major order</b> matrix of 16 bytes. We thus need to convert our 1-D byte array data into such a 4x4 2-D byte matrix. Now finish \"to_matrix\" and \"to_bytes\" that convert the 1-D byte array to its 2-D <b>column-major order</b> matrix and convert it back respectively.\n",
    "\n",
    "![Image](imgs/1.png)"
   ]
  },
  {
   "cell_type": "code",
   "execution_count": 89,
   "id": "a523ca09",
   "metadata": {
    "id": "a523ca09"
   },
   "outputs": [],
   "source": [
    "## Input: 1-D byte array\n",
    "## Output: 2-D byte matrix\n",
    "def to_matrix(data):\n",
    "    rows, cols = 4, 4\n",
    "    index=0\n",
    "    matrix = [[] for _ in range(rows)]\n",
    "    for col in range(cols):\n",
    "        for row in range(rows):\n",
    "            matrix[row].append(data[index])\n",
    "            index+=1\n",
    "\n",
    "    return matrix\n",
    "\n",
    "## Input: 2-D byte matrix\n",
    "## Output: 1-D byte array\n",
    "def to_array(matrix):\n",
    "    rows, cols = 4, 4\n",
    "    array=[]\n",
    "    for col in range(cols):\n",
    "        for row in range(rows):\n",
    "            array.append(matrix[row][col])\n",
    "    return array"
   ]
  },
  {
   "cell_type": "code",
   "execution_count": 90,
   "id": "0ef4c81a",
   "metadata": {
    "colab": {
     "base_uri": "https://localhost:8080/"
    },
    "executionInfo": {
     "elapsed": 7,
     "status": "ok",
     "timestamp": 1745415447839,
     "user": {
      "displayName": "Zhenzhi Lai",
      "userId": "16652960652183855505"
     },
     "user_tz": -600
    },
    "id": "0ef4c81a",
    "outputId": "451df663-5a43-43cb-8fdb-e1c7d290ea92"
   },
   "outputs": [],
   "source": [
    "## For your check\n",
    "test_array = [0x01, 0x02, 0x03, 0x04, 0x05, 0x06, 0x07, 0x08, 0x09, 0x0A, 0x0B, 0x0C, 0x0D, 0x0E, 0x0F, 0x10]\n",
    "assert len(to_matrix(test_array)) == 4\n",
    "for row in to_matrix(test_array):\n",
    "    assert len(row) == 4\n",
    "assert to_array(to_matrix(test_array)) == test_array"
   ]
  },
  {
   "cell_type": "markdown",
   "id": "w8oxumRb4F82",
   "metadata": {
    "id": "w8oxumRb4F82"
   },
   "source": [
    "AddRoundKey operated on the 4*4 2-D matrix.\n",
    "\n",
    "![Image](imgs/2.png)"
   ]
  },
  {
   "cell_type": "code",
   "execution_count": 91,
   "id": "58bd92c2",
   "metadata": {},
   "outputs": [],
   "source": [
    "## Input: 2-D byte matrix input block\n",
    "## Input: 2-D byte matrix key\n",
    "## Output: 2-D byte matrix output block \n",
    "def AddRoundKey(matrix_input, matrix_key):\n",
    "    matrix_output = [[0 for _ in range(4)] for _ in range(4)]\n",
    "    for row in range(4):\n",
    "        for col in range(4):\n",
    "            matrix_output[row][col]=matrix_input[row][col]^matrix_key[row][col]\n",
    "\n",
    "    return matrix_output\n"
   ]
  },
  {
   "cell_type": "code",
   "execution_count": 92,
   "id": "b5340c98",
   "metadata": {},
   "outputs": [],
   "source": [
    "## For your check\n",
    "test_array_in = [0x01, 0x02, 0x03, 0x04, 0x05, 0x06, 0x07, 0x08, 0x09, 0x0A, 0x0B, 0x0C, 0x0D, 0x0E, 0x0F, 0x10]\n",
    "test_array_key = [0x01, 0x02, 0x03, 0x04, 0x05, 0x06, 0x07, 0x08, 0x09, 0x0A, 0x0B, 0x0C, 0x0D, 0x0E, 0x0F, 0x10]\n",
    "assert AddRoundKey(to_matrix(test_array_in), to_matrix(test_array_key))[2][1] == 0x00"
   ]
  },
  {
   "cell_type": "markdown",
   "id": "9b9797f1",
   "metadata": {},
   "source": [
    "\n",
    "SubBytes and its inverse opertion operated on the 4*4 2-D matrix.\n",
    "\n",
    "\n",
    "![Image](imgs/3a.png)"
   ]
  },
  {
   "cell_type": "code",
   "execution_count": 1,
   "id": "9284159d",
   "metadata": {},
   "outputs": [
    {
     "name": "stdout",
     "output_type": "stream",
     "text": [
      "The history saving thread hit an unexpected error (OperationalError('attempt to write a readonly database')).History will not be written to the database.\n"
     ]
    }
   ],
   "source": [
    "## Input: 2-D byte matrix\n",
    "## Output: 2-D byte matrix\n",
    "def SubBytes(matrix):\n",
    "    for row in range(4):\n",
    "        for col in range(4):\n",
    "            col1=matrix[row][col]&(15) #lower half\n",
    "            row1=matrix[row][col]>>4\n",
    "            matrix[row][col]=SBOX[row1][col1]\n",
    "\n",
    "\n",
    "    return matrix\n",
    "\n",
    "## Input: 2-D byte matrix\n",
    "## Output: 2-D byte matrix\n",
    "def SubBytes_inv(matrix):\n",
    "    for row in range(4):\n",
    "        for col in range(4):\n",
    "            col1=matrix[row][col]&(15) #lower half\n",
    "            row1=matrix[row][col]>>4\n",
    "            matrix[row][col]=INV_SBOX[row1][col1]\n",
    "\n",
    "\n",
    "    return matrix"
   ]
  },
  {
   "cell_type": "code",
   "execution_count": 94,
   "id": "67f25d53",
   "metadata": {},
   "outputs": [],
   "source": [
    "## For your check\n",
    "test_array = [0x01, 0x02, 0x03, 0x04, 0x05, 0x06, 0x07, 0x08, 0x09, 0x0A, 0x0B, 0x0C, 0x0D, 0x0E, 0x0F, 0x10]\n",
    "test_matrix = to_matrix(test_array)\n",
    "# print(test_matrix)\n",
    "assert SubBytes_inv(SubBytes(test_matrix)) == test_matrix\n",
    "# print(test_matrix)"
   ]
  },
  {
   "cell_type": "markdown",
   "id": "9b6ce712",
   "metadata": {},
   "source": [
    "\n",
    "ShiftRows and its inverse opertion operated on the 4*4 2-D matrix.\n",
    "\n",
    "![Image](imgs/4.png)"
   ]
  },
  {
   "cell_type": "code",
   "execution_count": 95,
   "id": "L6A9yvRC4mIx",
   "metadata": {
    "id": "L6A9yvRC4mIx"
   },
   "outputs": [],
   "source": [
    "## Input: 2-D byte matrix\n",
    "## Output: 2-D byte matrix\n",
    "def ShiftRows(matrix):\n",
    "    ### Your code starts ###\n",
    "     # Row 1: Left shift by 1\n",
    "    matrix[1][:] = matrix[1][1:] + matrix[1][:1]\n",
    "    \n",
    "    # Row 2: Left shift by 2\n",
    "    matrix[2][:] = matrix[2][2:] + matrix[2][:2]\n",
    "    \n",
    "    # Row 3: Left shift by 3\n",
    "    matrix[3][:] = matrix[3][3:] + matrix[3][:3]\n",
    "\n",
    "    ### Your code ends ###\n",
    "    return matrix\n",
    "\n",
    "## Input: 2-D byte matrix\n",
    "## Output: 2-D byte matrix\n",
    "def ShiftRows_inv(matrix):\n",
    "    ### Your code starts ###\n",
    "    # Row 1: Right shift by 1\n",
    "    matrix[1][:] = matrix[1][-1:] + matrix[1][:-1]\n",
    "    \n",
    "    # Row 2: Right shift by 2\n",
    "    matrix[2][:] = matrix[2][-2:] + matrix[2][:-2]\n",
    "    \n",
    "    # Row 3: Right shift by 3\n",
    "    matrix[3][:] = matrix[3][-3:] + matrix[3][:-3]\n",
    "\n",
    "    ### Your code ends ###\n",
    "    return matrix"
   ]
  },
  {
   "cell_type": "code",
   "execution_count": 96,
   "id": "6sc1xhH-4mW7",
   "metadata": {
    "id": "6sc1xhH-4mW7"
   },
   "outputs": [],
   "source": [
    "## For your check\n",
    "test_array = [0x01, 0x02, 0x03, 0x04, 0x05, 0x06, 0x07, 0x08, 0x09, 0x0A, 0x0B, 0x0C, 0x0D, 0x0E, 0x0F, 0x10]\n",
    "test_matrix = to_matrix(test_array)\n",
    "assert ShiftRows_inv(ShiftRows(test_matrix)) == test_matrix\n"
   ]
  },
  {
   "cell_type": "markdown",
   "id": "247be28f",
   "metadata": {},
   "source": [
    "MixColumns and its inverse opertion operated on the 4*4 2-D matrix.\n",
    "\n",
    "(Hint: the individual additions and multiplications are perfromed in $GF(2^8)$ with irreducible polynomial: $x^8 + x^4 + x^3 + x + 1$ (or 0x11b in hex).)\n",
    "\n",
    "![Image](imgs/5.png)"
   ]
  },
  {
   "cell_type": "code",
   "execution_count": 110,
   "id": "b8e5a3e0",
   "metadata": {},
   "outputs": [],
   "source": [
    "## Input: 2-D byte matrix\n",
    "## Output: 2-D byte matrix\n",
    "\n",
    "#====Additional Functions Used===\n",
    "#MUltiplication under GF(2^8)\n",
    "def GFmul(a, b):\n",
    "    result = 0\n",
    "    for _ in range(8):  # since bytes are 8-bit\n",
    "        if b & 1:\n",
    "            result ^= a  # add (XOR) current a to result\n",
    "        carry = a & 0x80  # if MSB is set (bit 7), we’ll overflow\n",
    "        a <<= 1           # multiply a by x (shift left)\n",
    "        if carry:\n",
    "            a ^= 0x11b    # reduce mod m(x)\n",
    "        b >>= 1           # move to next bit of b\n",
    "    return result & 0xFF  # return only the last 8 bits\n",
    "    \n",
    "# MixColumns transformation on a perticular column\n",
    "def mix_column(col):\n",
    "    c0, c1, c2, c3 = col\n",
    "    return [\n",
    "        GFmul(c0, 2) ^ GFmul(c1, 3) ^ c2 ^ c3,\n",
    "        c0 ^ GFmul(c1, 2) ^ GFmul(c2, 3) ^ c3,\n",
    "        c0 ^ c1 ^ GFmul(c2, 2) ^ GFmul(c3, 3),\n",
    "        GFmul(c0, 3) ^ c1 ^ c2 ^ GFmul(c3, 2)\n",
    "    ]\n",
    "\n",
    "# Inverse MixColumns transformation on a perticular column\n",
    "def mix_column_inv(col):\n",
    "    c0, c1, c2, c3 = col\n",
    "    return [\n",
    "        GFmul(c0, 14) ^ GFmul(c1, 11) ^ GFmul(c2, 13) ^ GFmul(c3, 9),\n",
    "        GFmul(c0, 9) ^ GFmul(c1, 14) ^ GFmul(c2, 11) ^ GFmul(c3, 13),\n",
    "        GFmul(c0, 13) ^ GFmul(c1, 9) ^ GFmul(c2, 14) ^ GFmul(c3, 11),\n",
    "        GFmul(c0, 11) ^ GFmul(c1, 13) ^ GFmul(c2, 9) ^ GFmul(c3, 14)\n",
    "    ]\n",
    "\n",
    "\n",
    "def MixColumns(matrix):\n",
    "    for i in range(4):\n",
    "        col = [matrix[j][i] for j in range(4)]\n",
    "        new_col = mix_column(col)\n",
    "        for j in range(4):\n",
    "            matrix[j][i] = new_col[j]\n",
    "\n",
    "    return matrix\n",
    "\n",
    "## Input: 2-D byte matrix\n",
    "## Output: 2-D byte matrix\n",
    "def MixColumns_inv(matrix):\n",
    "    for i in range(4):\n",
    "        col = [matrix[j][i] for j in range(4)]\n",
    "        new_col = mix_column_inv(col)\n",
    "        for j in range(4):\n",
    "            matrix[j][i] = new_col[j]\n",
    "    return matrix\n"
   ]
  },
  {
   "cell_type": "code",
   "execution_count": 98,
   "id": "a6a39ed7",
   "metadata": {},
   "outputs": [],
   "source": [
    "## For your check\n",
    "test_array = [0x01, 0x02, 0x03, 0x04, 0x05, 0x06, 0x07, 0x08, 0x09, 0x0A, 0x0B, 0x0C, 0x0D, 0x0E, 0x0F, 0x10]\n",
    "test_matrix = to_matrix(test_array)\n",
    "assert MixColumns_inv(MixColumns(test_matrix)) == test_matrix"
   ]
  },
  {
   "cell_type": "markdown",
   "id": "e11205f8",
   "metadata": {
    "id": "e11205f8"
   },
   "source": [
    "--------------------------------------"
   ]
  },
  {
   "cell_type": "markdown",
   "id": "520328c3",
   "metadata": {
    "id": "520328c3"
   },
   "source": [
    "## Section 1: AES-128 Key Scheduling\n",
    "\n",
    "Tranditional AES applies the Rijndael key schedule to expand the master key to n round keys. Now we are going to implement it.\n",
    "We use an 1-D byte array to represent the master key, and a 2-D byte array list to represent the entire expanded key.\n",
    "\n",
    "(master key: [0x11, 0x22 .....])\n",
    "\n",
    "(expanded key: [[0x11, 0x22 .....], [0x11, 0x22 .....], [0x11, 0x22 .....], ....])\n",
    "\n",
    "![Image](imgs/6.png)"
   ]
  },
  {
   "cell_type": "markdown",
   "id": "213384f5",
   "metadata": {
    "id": "213384f5"
   },
   "source": [
    "\n",
    "Before we implement the key expansion, we need the core function to compute the next round key. \n",
    "Recall that each round key is computed from the last round key. Finish the 'compute_next_rk' below:\n",
    "\n",
    "(Hint: Round Constant (RC) has already been defined in Section 0 as 'RCON')"
   ]
  },
  {
   "cell_type": "code",
   "execution_count": 99,
   "id": "66ef174d",
   "metadata": {
    "id": "66ef174d"
   },
   "outputs": [],
   "source": [
    "## Input: 1-D byte array for the last round key\n",
    "## Input: int for the round of computed round key \n",
    "##        (say we are computing rk1, then we invoeke this function as compute_next_rk(rk0, 1))\n",
    "## Output: 1-D byte array for the next round key\n",
    "\n",
    "def compute_next_rk(current_rk, computed_round):\n",
    "    rk_matrix = to_matrix(current_rk)\n",
    "    ### Your code starts ###\n",
    "    new_matrix = [[0] * 4 for _ in range(4)]\n",
    "    last_column = [rk_matrix[row][3] for row in range(4)]\n",
    "\n",
    "    rotated_column = last_column[1:] + last_column[:1]\n",
    "\n",
    "    substituted_from_SBOX=[]\n",
    "    for element in rotated_column:\n",
    "        col1=element&(15)\n",
    "        row1=element>>4\n",
    "        substituted_from_SBOX.append(SBOX[row1][col1])\n",
    "    \n",
    "    substituted_from_SBOX[0] =substituted_from_SBOX[0] ^ RCON[computed_round]\n",
    "\n",
    "    #first column : W0^g\n",
    "    for row in range(4):\n",
    "        new_matrix[row][0] = rk_matrix[row][0] ^ substituted_from_SBOX[row]\n",
    "    # Compute rest using: w[i] = w[i-1] ⊕ w[i-4]\n",
    "    for col in range(1, 4):\n",
    "        for row in range(4):\n",
    "            new_matrix[row][col] = new_matrix[row][col - 1] ^ rk_matrix[row][col]    \n",
    "    \n",
    "    ### Your code ends ###\n",
    "    next_rk = to_array(new_matrix)\n",
    "    return next_rk\n",
    "\n"
   ]
  },
  {
   "cell_type": "markdown",
   "id": "c9f82026",
   "metadata": {},
   "source": [
    "The entire key expanison for AES 128. The input is the master key represented as an 1-D byte array. The entire expanded key is a 2-D byte array list, where each row is a round key represented as an 1-D byte array."
   ]
  },
  {
   "cell_type": "code",
   "execution_count": 100,
   "id": "cf15a29e",
   "metadata": {
    "id": "cf15a29e"
   },
   "outputs": [],
   "source": [
    "## Input: 1-D byte array for the master key\n",
    "## Output: 2-D byte array list for the entire expanded key\n",
    "def AES128_key_expansion(master_key):\n",
    "    expanded_key = []\n",
    "    expanded_key.append(master_key)\n",
    "    last_key=0\n",
    "    for computed_round in range(1,11):\n",
    "        next_round_key=(compute_next_rk(expanded_key[last_key], computed_round))\n",
    "        expanded_key.append(next_round_key)\n",
    "        last_key=last_key+1\n",
    "\n",
    "\n",
    "    return expanded_key\n"
   ]
  },
  {
   "cell_type": "code",
   "execution_count": 101,
   "id": "8fbc8f0c",
   "metadata": {},
   "outputs": [],
   "source": [
    "## For your check\n",
    "test_master_key = [0x01, 0x02, 0x03, 0x04, 0x05, 0x06, 0x07, 0x08, 0x09, 0x0A, 0x0B, 0x0C, 0x0D, 0x0E, 0x0F, 0x10]\n",
    "expanded_key = AES128_key_expansion(test_master_key)\n",
    "for round_key in expanded_key:\n",
    "    assert len(round_key) == 16"
   ]
  },
  {
   "cell_type": "markdown",
   "id": "f16518bb",
   "metadata": {},
   "source": [
    "---------------------------------------------------------"
   ]
  },
  {
   "cell_type": "markdown",
   "id": "3d6834f9",
   "metadata": {},
   "source": [
    "## Section 2: AES-128 Encryption and Decryption for one block\n",
    "\n",
    "\n",
    "\n",
    "the encryption operation. The function take the 1-D byte array master-key and one block 1-D byte array plaintext as inputs, and output the corresponding 1-D byte array ciphertext."
   ]
  },
  {
   "cell_type": "code",
   "execution_count": 102,
   "id": "cf0ca933",
   "metadata": {},
   "outputs": [],
   "source": [
    "## Input: 1-D byte array for the master key\n",
    "## Input: 1-D byte array for one block of plaintext\n",
    "## Output: 1-D byte array for the ciphertext\n",
    "def AES128_encrypt(master_key, plaintext):\n",
    "    \n",
    "    ### Your code starts ###\n",
    "    key_matrix=to_matrix(master_key)\n",
    "    plaintext_matrix=to_matrix(plaintext)\n",
    "    expanded_key= AES128_key_expansion(master_key)\n",
    "    curr_text=AddRoundKey(plaintext_matrix, to_matrix(expanded_key[0]))\n",
    "\n",
    "    for roundd in range(1,10):\n",
    "        curr_text=SubBytes(curr_text)\n",
    "        curr_text=ShiftRows(curr_text)\n",
    "        curr_text=MixColumns(curr_text)\n",
    "        curr_text=AddRoundKey(curr_text, to_matrix(expanded_key[roundd]))\n",
    "    #last round no mixcol\n",
    "    curr_text=SubBytes(curr_text)\n",
    "    curr_text=ShiftRows(curr_text)\n",
    "    curr_text=AddRoundKey(curr_text,to_matrix(expanded_key[10]))\n",
    "    ciphertext=to_array(curr_text)\n",
    "    ### Your code ends ###\n",
    "\n",
    "    return ciphertext\n"
   ]
  },
  {
   "cell_type": "markdown",
   "id": "0800b6a7",
   "metadata": {},
   "source": [
    "The decryption operation. The function take the 1-D byte array master-key and one block 1-D byte array ciphertext as inputs, and output the corresponding 1-D byte array plaintext."
   ]
  },
  {
   "cell_type": "code",
   "execution_count": 103,
   "id": "1071dcf7",
   "metadata": {},
   "outputs": [],
   "source": [
    "## Input: 1-D byte array for the master key\n",
    "## Input: 1-D byte array for one block of ciphertext\n",
    "## Output: 1-D byte array for the plaintext\n",
    "def AES128_decrypt(master_key, ciphertext):\n",
    "    \n",
    "    ### Your code starts ###\n",
    "    key_matrix=to_matrix(master_key)\n",
    "    ciphertext_matrix=to_matrix(ciphertext)\n",
    "    expanded_key= AES128_key_expansion(master_key)\n",
    "    curr_text=AddRoundKey(ciphertext_matrix, to_matrix(expanded_key[10]))\n",
    "\n",
    "    for roundd in range(9,0,-1):\n",
    "        curr_text=ShiftRows_inv(curr_text)\n",
    "        curr_text=SubBytes_inv(curr_text)\n",
    "        curr_text=AddRoundKey(curr_text, to_matrix(expanded_key[roundd]))\n",
    "        curr_text=MixColumns_inv(curr_text)\n",
    "\n",
    "    curr_text=ShiftRows_inv(curr_text)\n",
    "    curr_text=SubBytes_inv(curr_text)\n",
    "    curr_text=AddRoundKey(curr_text, to_matrix(expanded_key[0]))\n",
    "\n",
    "    plaintext=to_array(curr_text)\n",
    "   \n",
    "    ### Your code ends ###\n",
    "\n",
    "    return plaintext"
   ]
  },
  {
   "cell_type": "markdown",
   "id": "87950d40",
   "metadata": {},
   "source": [
    "---------------------------------------------------------"
   ]
  },
  {
   "cell_type": "markdown",
   "id": "09de1ee9",
   "metadata": {},
   "source": [
    "## Section 3: AES-128 with Block-Cipher Mode\n",
    "\n",
    "To encrypt/decrypt long messages, AES should be integrated with block-cipher modes such as CBC, CTR. Futhermore, the length of real-world plaintexts does not always be the exact multiplies of AES block size. As a result, we need pad and unpad our plaintext before encryption/after decryption. \n",
    "\n",
    "For simplicity, we consider the minimum unit for a plaintext element is <b>byte</b> in this assignment. In other words, we assume the plaintext is always a sequence of bytes, but not 19 bits/22 bits etc.\n",
    "\n",
    "Following our assumption, we pad/unpad the plaintext at <b>byte level</b> for our AES-CBC implementation. It follows:\n",
    "<li> pad: If the last block matches the AES-128 block size already, do nothing. Else, pad the last block with '0x00' until it fullfill the block.</li>\n",
    "<li> unpad: Start from the last byte, remove all continuous '0x00' until a none-zero byte comes.</li>\n",
    "\n",
    "We have provided the pad and unpad implementation below. We will make use of them to finish the implementation for AES128_CBC_encrypt and AES128_CBC_decrypt. Both of the encryption and decrytion take an 1-D byte array IV, an 1-D byte array master key, and an 1-D byte array plaintext/ciphertext. The output is the corresponding 1-D byte array ciphertext/plaintext."
   ]
  },
  {
   "cell_type": "code",
   "execution_count": 104,
   "id": "6ddb67d4",
   "metadata": {},
   "outputs": [],
   "source": [
    "## Input: 1-D byte array for the plaintext\n",
    "## Output: 1-D byte array for the padded plaintext\n",
    "def pad(plaintext):\n",
    "    pad_elm = 0x00\n",
    "    if len(plaintext) % 16 == 0:\n",
    "        pad_len = 0\n",
    "    else:\n",
    "        pad_len = 16 - len(plaintext) % 16\n",
    "    padded_plaintext = plaintext + [pad_elm] * pad_len\n",
    "    return padded_plaintext\n",
    "\n",
    "## Input: 1-D byte array for the padded plaintext\n",
    "## Output: 1-D byte array for the unpadded plaintext\n",
    "def unpad(padded_plaintext):\n",
    "    pad_elm = 0x00\n",
    "    for i in range(len(padded_plaintext)-1, -1, -1):\n",
    "        if padded_plaintext[i] != pad_elm:\n",
    "            break\n",
    "    unpadded_plaintext = padded_plaintext[:i+1]\n",
    "    return unpadded_plaintext"
   ]
  },
  {
   "cell_type": "code",
   "execution_count": 105,
   "id": "8eb3dcc0",
   "metadata": {},
   "outputs": [],
   "source": [
    "## Input: 1-D byte array for the IV (Assume the IV is always 16 bytes)\n",
    "## Input: 1-D byte array for the master key\n",
    "## Input: 1-D byte array for the plaintext\n",
    "## Output: 1-D byte array for the ciphertext\n",
    "def AES128_CBC_encrypt(iv, master_key, plaintext):\n",
    "    padded_plaintext = pad(plaintext)\n",
    "    \n",
    "    ciphertext=[]\n",
    "    prev_text=iv\n",
    "\n",
    "    for block in range(0,len(padded_plaintext),16):\n",
    "        curr_text=[]\n",
    "        for i in range(16):\n",
    "            curr_text.append(padded_plaintext[block+i]^prev_text[i])\n",
    "        curr_text=AES128_encrypt(master_key, curr_text)\n",
    "        prev_text=curr_text\n",
    "        ciphertext.extend(curr_text)\n",
    "\n",
    "\n",
    "    return ciphertext\n",
    "\n",
    "\n",
    "## Input: 1-D byte array for the IV (Assume the IV is always 16 bytes)\n",
    "## Input: 1-D byte array for the master key\n",
    "## Input: 1-D byte array for the ciphertext\n",
    "## Output: 1-D byte array for the plaintext\n",
    "def AES128_CBC_decrypt(iv, master_key, ciphertext):\n",
    "    \n",
    "    plaintext=[]\n",
    "    prev_text=iv\n",
    "\n",
    "    for block in range(0,len(ciphertext),16):\n",
    "        curr_text=[]\n",
    "        xor_text=[]\n",
    "        curr_text=AES128_decrypt(master_key, ciphertext[block:block+16])\n",
    "        for i in range(16):\n",
    "            xor_text.append(prev_text[i]^curr_text[i])\n",
    "        prev_text=ciphertext[block:block+16]\n",
    "        plaintext.extend(xor_text)\n",
    "\n",
    "    unpadded_plaintext = unpad(plaintext)\n",
    "    return unpadded_plaintext"
   ]
  },
  {
   "cell_type": "code",
   "execution_count": 109,
   "id": "b2629727",
   "metadata": {},
   "outputs": [],
   "source": [
    "## For your check\n",
    "test_plaintext = [0xff] * 22\n",
    "test_master_key = [0x01, 0x02, 0x03, 0x04, 0x05, 0x06, 0x07, 0x08, 0x09, 0x0A, 0x0B, 0x0C, 0x0D, 0x0E, 0x0F, 0x10]\n",
    "iv = [0x00] * 16\n",
    "ciphertext = AES128_CBC_encrypt(iv, test_master_key, test_plaintext)\n",
    "# print(ciphertext)\n",
    "decrypted_plaintext = AES128_CBC_decrypt(iv, test_master_key, ciphertext)\n",
    "# print(decrypted_plaintext)\n",
    "assert len(ciphertext) == 32\n",
    "assert len(decrypted_plaintext) == len(unpad(test_plaintext))"
   ]
  },
  {
   "cell_type": "markdown",
   "id": "13e44a37",
   "metadata": {},
   "source": [
    "---------------------------------------------------------"
   ]
  },
  {
   "cell_type": "markdown",
   "id": "673a0a22",
   "metadata": {},
   "source": [
    "## Section 4: Discussions\n",
    "\n",
    "Important questions."
   ]
  },
  {
   "cell_type": "markdown",
   "id": "cec53467",
   "metadata": {},
   "source": [
    "<font color=\"red\" size=\"4\">Question 1:</font> \n",
    "A full AES round in AES-128 encryption can be concluded as a sequence of Substitute Bytes, Shift Rows, Mix Columns, and Add Round Key.\n",
    "However, AES-128 encryption starts with an individual Add Round Key before the first round starts. Explain why such an Add Round Key operation is needed before the first round starts. Or in other words, explain why AES-128 encryption does not start with a full round including all four operations directly."
   ]
  },
  {
   "cell_type": "markdown",
   "id": "8cfb5a6a",
   "metadata": {},
   "source": [
    "<span style=\"color:green;\">(Double click this block)</span> Your answer goes there..............................\n",
    "The initial AddRoundKey operation in AES-128 encryption is crucial for breaking symmetry and introducing immediate key dependence into the cipher. If encryption were to begin with a full round (i.e., starting with SubBytes, ShiftRows, and MixColumns), the early transformations would be purely algebraic and independent of the secret key. This would make the first round act like a fixed permutation, which could be exploited by attackers through known-plaintext or structural attacks.\n",
    "\n",
    "By applying AddRoundKey before any other operations, AES ensures that the input data is thoroughly mixed with the secret key right from the start. This early key injection disrupts predictable patterns in the input and strengthens diffusion and confusion properties from the very beginning, thereby enhancing the algorithm's overall security."
   ]
  },
  {
   "cell_type": "markdown",
   "id": "a09aba60",
   "metadata": {},
   "source": [
    "<font color=\"red\" size=\"4\">Question 2:</font> \n",
    "\n",
    "What is the problem for the padding strategy we used in our AES-CBC? Describe it, and describe a solution at the situation where only the ciphertext and its random IV can be transmitted between two parties.\n",
    "\n",
    "Note that we assume the minumum message unit is <b>byte</b>."
   ]
  },
  {
   "cell_type": "markdown",
   "id": "8e90f1a9",
   "metadata": {},
   "source": [
    "<span style=\"color:green;\">(Double click this block)</span> Your answer goes there..............................\n",
    "\n",
    "One problem I can see with the zero-byte padding strategy in AES-CBC is that it creates ambiguity when the original message ends with one or more zero bytes. In such cases, the receiver cannot distinguish padding from actual message content after decryption, leading to possible data loss. Since only the ciphertext and IV are transmitted (and not the message length), the padding must be self-descriptive.\n",
    "\n",
    "From a article I came to know about a secure and effective solution is to use PKCS#7 padding, where each padding byte indicates the number of padding bytes added. This ensures that the receiver can unambiguously and safely remove the padding without needing extra information, preserving both correctness and security."
   ]
  },
  {
   "cell_type": "markdown",
   "id": "14b25159",
   "metadata": {},
   "source": [
    "<font color=\"red\" size=\"4\">Question 3:</font> \n",
    "\n",
    "Consider an alternative usage of AES-CBC-encryption. Assume the IV is always fixed as '0x00'. Then, for arbitrary plaintext $m$, Alice use the ciphertext of the last encryption block as the unique $Tag$ for $m$. Assume an adversary can continuous query $Tag_i$ for arbitrary $m_i$ from Alice. With this power, can the adversary generate a valid $Tag_f$ for a message $m_f$ without querying it from Alice? If yes, describe the process to compute $Tag_f$. If no, describe how AES-CBC-encryption prevents such a tag forge."
   ]
  },
  {
   "cell_type": "markdown",
   "id": "c552448f",
   "metadata": {},
   "source": [
    "<span style=\"color:green;\">(Double click this block)</span> Your answer goes there..............................\n",
    "\n",
    "Yes, the adversary can generate a valid tag for a message mfmf​ without querying it from Alice. This is because using AES-CBC with a fixed IV (such as 0x00) makes the encryption process deterministic and exposes the system to chosen-plaintext attacks.\n",
    "\n",
    "In CBC mode, the encryption of each block depends on the ciphertext of the previous block, and the first block is XORed with the IV. When the IV is fixed (especially to 0x00), the encryption of the same plaintext block always yields the same ciphertext block. This removes the randomness that normally protects against such attacks.\n",
    "\n",
    "Here’s how the adversary can exploit this:\n",
    "\n",
    "    The adversary sends a message mm (say, 1 block) to Alice and receives the tag, which is the last ciphertext block C1=AESk(m)C1​=AESk​(m).\n",
    "\n",
    "    Now, the adversary constructs a new message by concatenating mm with a new block m2′ of their choice:\n",
    "    mf=m∣∣m2′\n",
    "\n",
    "    They already know C1=AESk(m), so they can compute the new tag as:\n",
    "    C2=AESk(m2′⊕C1)\n",
    "\n",
    "    Thus, they know the valid ciphertext blocks for the message mf, and in particular, they know the last ciphertext block, which serves as the tag.\n",
    "\n",
    "    This process can be extended — using known ciphertexts, the adversary can construct valid tags for longer messages of the form m∣∣m2′∣∣m3′∣∣… without needing to ask Alice to encrypt those messages.\n",
    "\n",
    "This attack shows that using the last block of AES-CBC encryption as a tag does not provide message integrity or authentication when the IV is fixed. The attacker can manipulate and forge valid ciphertext-tag pairs, defeating the purpose of a Message Authentication Code (MAC).\n"
   ]
  },
  {
   "cell_type": "markdown",
   "id": "4776dd31",
   "metadata": {},
   "source": [
    "--------------------------------------------\n",
    "\n",
    "End of this Project"
   ]
  },
  {
   "cell_type": "code",
   "execution_count": null,
   "id": "2c367485-74d2-4ced-8fef-c178a01d6e11",
   "metadata": {},
   "outputs": [],
   "source": []
  },
  {
   "cell_type": "code",
   "execution_count": null,
   "id": "3fd8f63b-3dfd-4c1d-8815-93e2a1a40f6c",
   "metadata": {},
   "outputs": [],
   "source": []
  },
  {
   "cell_type": "code",
   "execution_count": null,
   "id": "9d259a2c-d748-47b7-b268-c84664285a77",
   "metadata": {},
   "outputs": [],
   "source": []
  }
 ],
 "metadata": {
  "colab": {
   "provenance": []
  },
  "kernelspec": {
   "display_name": "Python 3 (ipykernel)",
   "language": "python",
   "name": "python3"
  },
  "language_info": {
   "codemirror_mode": {
    "name": "ipython",
    "version": 3
   },
   "file_extension": ".py",
   "mimetype": "text/x-python",
   "name": "python",
   "nbconvert_exporter": "python",
   "pygments_lexer": "ipython3",
   "version": "3.12.3"
  }
 },
 "nbformat": 4,
 "nbformat_minor": 5
}
